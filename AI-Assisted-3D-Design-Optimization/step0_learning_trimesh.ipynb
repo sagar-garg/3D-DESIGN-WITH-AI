{
 "cells": [
  {
   "cell_type": "code",
   "execution_count": 1,
   "metadata": {},
   "outputs": [
    {
     "name": "stdout",
     "output_type": "stream",
     "text": [
      "4.5.3\n"
     ]
    }
   ],
   "source": [
    "##learning how trimesh works\n",
    "import trimesh\n",
    "print(trimesh.__version__)\n"
   ]
  },
  {
   "cell_type": "code",
   "execution_count": 2,
   "metadata": {},
   "outputs": [],
   "source": [
    "# print(\"Boolean backends available:\", trimesh.interfaces.boolean.backends)\n",
    "# print(\"Default Boolean backend:\", trimesh.interfaces.boolean.interface)"
   ]
  },
  {
   "cell_type": "code",
   "execution_count": 3,
   "metadata": {},
   "outputs": [],
   "source": [
    "\n",
    "# # Set the Boolean backend to manifold\n",
    "# trimesh.interfaces.boolean.set_active('manifold')\n",
    "\n",
    "# # Verify the backend\n",
    "# print(\"Active Boolean backend:\", trimesh.interfaces.boolean.interface)"
   ]
  },
  {
   "cell_type": "code",
   "execution_count": 4,
   "metadata": {},
   "outputs": [
    {
     "name": "stdout",
     "output_type": "stream",
     "text": [
      "Boolean operation successful.\n"
     ]
    }
   ],
   "source": [
    "import trimesh\n",
    "\n",
    "# Define two simple objects\n",
    "box = trimesh.primitives.Box(extents=[1, 1, 1])\n",
    "sphere = trimesh.primitives.Sphere(radius=0.5, center=[0.5, 0.5, 0.5])\n",
    "\n",
    "try:\n",
    "    # Perform a Boolean difference operation\n",
    "    result = box.difference([sphere])  # Subtract sphere from box\n",
    "    print(\"Boolean operation successful.\")\n",
    "    # Save the result to an STL file for visualization\n",
    "    result.export(\"boolean_test.stl\")\n",
    "except Exception as e:\n",
    "    print(\"Boolean operation failed:\", e)\n"
   ]
  },
  {
   "cell_type": "code",
   "execution_count": 5,
   "metadata": {},
   "outputs": [],
   "source": [
    "parameters = {\n",
    "    \"type\": \"bracket\",\n",
    "    \"capacity\": 20,#kg\n",
    "    \"features\": \"two mounting holes\",\n",
    "    \"length\": 100,  # Example default length in mm\n",
    "    \"width\": 50,    # Example default width in mm\n",
    "    \"height\": 10,   # Example default height in mm\n",
    "    \"hole_radius\": 5,   # Radius of mounting holes in mm\n",
    "    \"hole_spacing\": 40  # Distance between mounting holes in mm\n",
    "}\n"
   ]
  },
  {
   "cell_type": "code",
   "execution_count": 7,
   "metadata": {},
   "outputs": [],
   "source": [
    "def generate_bracket(parameters):\n",
    "    \"\"\"\n",
    "    Generate a bracket 3D model based on input parameters.\n",
    "\n",
    "    Args:\n",
    "        parameters (dict): Parameters for the bracket, including dimensions and hole properties.\n",
    "\n",
    "    Returns:\n",
    "        trimesh.Trimesh: A 3D mesh representing the bracket with mounting holes.\n",
    "    \"\"\"\n",
    "    # Extract parameters with defaults if not specified\n",
    "    length = parameters.get(\"length\", 100)  # Length of the bracket\n",
    "    width = parameters.get(\"width\", 50)    # Width of the bracket\n",
    "    height = parameters.get(\"height\", 10)  # Height (thickness) of the bracket\n",
    "    hole_radius = parameters.get(\"hole_radius\", 5)  # Radius of the mounting holes\n",
    "    hole_spacing = parameters.get(\"hole_spacing\", 40)  # Distance between hole centers\n",
    "\n",
    "    # Create the main body of the bracket as a rectangular prism\n",
    "    bracket_body = trimesh.primitives.Box(extents=[length, width, height])\n",
    "\n",
    "    # Create the first hole as a cylinder\n",
    "    hole1 = trimesh.primitives.Cylinder(radius=hole_radius, height=height * 2, sections=32)\n",
    "    hole1.apply_translation([length / 4, 0, 0])  # Position the hole on the bracket body\n",
    "\n",
    "    # Create the second hole as a cylinder\n",
    "    hole2 = trimesh.primitives.Cylinder(radius=hole_radius, height=height * 2, sections=32)\n",
    "    hole2.apply_translation([-length / 4, 0, 0])  # Position the second hole\n",
    "\n",
    "    # Subtract the holes from the bracket body\n",
    "    bracket_with_holes = bracket_body.difference([hole1, hole2])\n",
    "\n",
    "    return bracket_with_holes\n",
    "\n",
    "def save_model_to_stl(mesh, filename=\"bracket.stl\"):\n",
    "    \"\"\"\n",
    "    Save the generated mesh to an STL file.\n",
    "\n",
    "    Args:\n",
    "        mesh (trimesh.Trimesh): The 3D mesh to save.\n",
    "        filename (str): The filename to save the STL file as.\n",
    "    \"\"\"\n",
    "    mesh.export(filename)\n",
    "    print(f\"3D model saved as {filename}\")\n"
   ]
  },
  {
   "cell_type": "code",
   "execution_count": 8,
   "metadata": {},
   "outputs": [
    {
     "data": {
      "text/plain": [
       "<trimesh.Trimesh(vertices.shape=(136, 3), faces.shape=(276, 3))>"
      ]
     },
     "execution_count": 8,
     "metadata": {},
     "output_type": "execute_result"
    }
   ],
   "source": [
    "bracket_mesh = generate_bracket(parameters)\n",
    "bracket_mesh"
   ]
  },
  {
   "cell_type": "code",
   "execution_count": 9,
   "metadata": {},
   "outputs": [
    {
     "name": "stdout",
     "output_type": "stream",
     "text": [
      "3D model saved as bracket_with_holes.stl\n"
     ]
    }
   ],
   "source": [
    "save_model_to_stl(bracket_mesh, \"bracket_with_holes.stl\")"
   ]
  },
  {
   "cell_type": "code",
   "execution_count": 6,
   "metadata": {},
   "outputs": [],
   "source": [
    "# visualize with open3d is too much for python to handle and it crashes. using tinkercad online. https://www.tinkercad.com/"
   ]
  },
  {
   "cell_type": "code",
   "execution_count": null,
   "metadata": {},
   "outputs": [],
   "source": []
  }
 ],
 "metadata": {
  "kernelspec": {
   "display_name": "transformers-tf-env",
   "language": "python",
   "name": "python3"
  },
  "language_info": {
   "codemirror_mode": {
    "name": "ipython",
    "version": 3
   },
   "file_extension": ".py",
   "mimetype": "text/x-python",
   "name": "python",
   "nbconvert_exporter": "python",
   "pygments_lexer": "ipython3",
   "version": "3.9.20"
  }
 },
 "nbformat": 4,
 "nbformat_minor": 2
}
