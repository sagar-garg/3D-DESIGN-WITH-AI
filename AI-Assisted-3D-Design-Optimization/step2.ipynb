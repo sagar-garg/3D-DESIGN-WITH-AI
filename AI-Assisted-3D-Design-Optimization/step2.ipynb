{
 "cells": [
  {
   "cell_type": "code",
   "execution_count": null,
   "metadata": {},
   "outputs": [],
   "source": [
    "## Look at point-e/point-e/ Folder Please. /scripts and /outputs\n",
    "# I haven't used anything in Step 1 for Step 2, rather used a direct Prompt to Mesh Method."
   ]
  }
 ],
 "metadata": {
  "language_info": {
   "name": "python"
  }
 },
 "nbformat": 4,
 "nbformat_minor": 2
}
